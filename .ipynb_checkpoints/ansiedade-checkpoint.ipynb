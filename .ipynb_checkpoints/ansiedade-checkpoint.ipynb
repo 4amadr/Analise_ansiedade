{
 "cells": [
  {
   "cell_type": "code",
   "execution_count": 2,
   "id": "8ff119e4-db40-4f15-8ff3-13c375b50aa1",
   "metadata": {
    "scrolled": true
   },
   "outputs": [
    {
     "data": {
      "text/plain": [
       "Index(['Age', 'Gender', 'Education_Level', 'Employment_Status', 'Sleep_Hours',\n",
       "       'Physical_Activity_Hrs', 'Social_Support_Score', 'Anxiety_Score',\n",
       "       'Depression_Score', 'Stress_Level', 'Family_History_Mental_Illness',\n",
       "       'Chronic_Illnesses', 'Medication_Use', 'Therapy', 'Meditation',\n",
       "       'Substance_Use', 'Financial_Stress', 'Work_Stress', 'Self_Esteem_Score',\n",
       "       'Life_Satisfaction_Score', 'Loneliness_Score'],\n",
       "      dtype='object')"
      ]
     },
     "execution_count": 2,
     "metadata": {},
     "output_type": "execute_result"
    }
   ],
   "source": [
    "import pandas as pd\n",
    "import numpy as np\n",
    "import matplotlib.pyplot as plt\n",
    "import seaborn as sns\n",
    "\n",
    "df = pd.read_csv(\"anxiety_depression_data.csv\")\n",
    "df.columns"
   ]
  },
  {
   "cell_type": "code",
   "execution_count": 3,
   "id": "3db255cf-3ae7-4595-93ed-94d1fc7065c3",
   "metadata": {},
   "outputs": [
    {
     "data": {
      "text/html": [
       "<div>\n",
       "<style scoped>\n",
       "    .dataframe tbody tr th:only-of-type {\n",
       "        vertical-align: middle;\n",
       "    }\n",
       "\n",
       "    .dataframe tbody tr th {\n",
       "        vertical-align: top;\n",
       "    }\n",
       "\n",
       "    .dataframe thead th {\n",
       "        text-align: right;\n",
       "    }\n",
       "</style>\n",
       "<table border=\"1\" class=\"dataframe\">\n",
       "  <thead>\n",
       "    <tr style=\"text-align: right;\">\n",
       "      <th></th>\n",
       "      <th>Age</th>\n",
       "      <th>Gender</th>\n",
       "      <th>Education_Level</th>\n",
       "      <th>Employment_Status</th>\n",
       "      <th>Sleep_Hours</th>\n",
       "      <th>Physical_Activity_Hrs</th>\n",
       "      <th>Social_Support_Score</th>\n",
       "      <th>Anxiety_Score</th>\n",
       "      <th>Depression_Score</th>\n",
       "      <th>Stress_Level</th>\n",
       "      <th>...</th>\n",
       "      <th>Chronic_Illnesses</th>\n",
       "      <th>Medication_Use</th>\n",
       "      <th>Therapy</th>\n",
       "      <th>Meditation</th>\n",
       "      <th>Substance_Use</th>\n",
       "      <th>Financial_Stress</th>\n",
       "      <th>Work_Stress</th>\n",
       "      <th>Self_Esteem_Score</th>\n",
       "      <th>Life_Satisfaction_Score</th>\n",
       "      <th>Loneliness_Score</th>\n",
       "    </tr>\n",
       "  </thead>\n",
       "  <tbody>\n",
       "    <tr>\n",
       "      <th>0</th>\n",
       "      <td>56</td>\n",
       "      <td>Male</td>\n",
       "      <td>Bachelor's</td>\n",
       "      <td>Unemployed</td>\n",
       "      <td>6.0</td>\n",
       "      <td>0.4</td>\n",
       "      <td>3</td>\n",
       "      <td>4</td>\n",
       "      <td>2</td>\n",
       "      <td>9</td>\n",
       "      <td>...</td>\n",
       "      <td>0</td>\n",
       "      <td>Don't use</td>\n",
       "      <td>0</td>\n",
       "      <td>1</td>\n",
       "      <td>don't use</td>\n",
       "      <td>4</td>\n",
       "      <td>3</td>\n",
       "      <td>7</td>\n",
       "      <td>5</td>\n",
       "      <td>1</td>\n",
       "    </tr>\n",
       "    <tr>\n",
       "      <th>1</th>\n",
       "      <td>69</td>\n",
       "      <td>Female</td>\n",
       "      <td>Bachelor's</td>\n",
       "      <td>Retired</td>\n",
       "      <td>8.8</td>\n",
       "      <td>2.8</td>\n",
       "      <td>6</td>\n",
       "      <td>18</td>\n",
       "      <td>7</td>\n",
       "      <td>6</td>\n",
       "      <td>...</td>\n",
       "      <td>0</td>\n",
       "      <td>Don't use</td>\n",
       "      <td>1</td>\n",
       "      <td>0</td>\n",
       "      <td>don't use</td>\n",
       "      <td>1</td>\n",
       "      <td>4</td>\n",
       "      <td>7</td>\n",
       "      <td>4</td>\n",
       "      <td>6</td>\n",
       "    </tr>\n",
       "    <tr>\n",
       "      <th>2</th>\n",
       "      <td>46</td>\n",
       "      <td>Female</td>\n",
       "      <td>Master's</td>\n",
       "      <td>Employed</td>\n",
       "      <td>5.3</td>\n",
       "      <td>1.6</td>\n",
       "      <td>5</td>\n",
       "      <td>5</td>\n",
       "      <td>13</td>\n",
       "      <td>8</td>\n",
       "      <td>...</td>\n",
       "      <td>0</td>\n",
       "      <td>Don't use</td>\n",
       "      <td>0</td>\n",
       "      <td>1</td>\n",
       "      <td>don't use</td>\n",
       "      <td>8</td>\n",
       "      <td>7</td>\n",
       "      <td>8</td>\n",
       "      <td>1</td>\n",
       "      <td>1</td>\n",
       "    </tr>\n",
       "    <tr>\n",
       "      <th>3</th>\n",
       "      <td>32</td>\n",
       "      <td>Female</td>\n",
       "      <td>High School</td>\n",
       "      <td>Unemployed</td>\n",
       "      <td>8.8</td>\n",
       "      <td>0.5</td>\n",
       "      <td>4</td>\n",
       "      <td>6</td>\n",
       "      <td>3</td>\n",
       "      <td>4</td>\n",
       "      <td>...</td>\n",
       "      <td>1</td>\n",
       "      <td>Don't use</td>\n",
       "      <td>0</td>\n",
       "      <td>0</td>\n",
       "      <td>don't use</td>\n",
       "      <td>7</td>\n",
       "      <td>4</td>\n",
       "      <td>8</td>\n",
       "      <td>4</td>\n",
       "      <td>4</td>\n",
       "    </tr>\n",
       "    <tr>\n",
       "      <th>4</th>\n",
       "      <td>60</td>\n",
       "      <td>Female</td>\n",
       "      <td>Bachelor's</td>\n",
       "      <td>Retired</td>\n",
       "      <td>7.2</td>\n",
       "      <td>0.7</td>\n",
       "      <td>2</td>\n",
       "      <td>7</td>\n",
       "      <td>15</td>\n",
       "      <td>3</td>\n",
       "      <td>...</td>\n",
       "      <td>0</td>\n",
       "      <td>Don't use</td>\n",
       "      <td>1</td>\n",
       "      <td>1</td>\n",
       "      <td>Frequent</td>\n",
       "      <td>8</td>\n",
       "      <td>9</td>\n",
       "      <td>5</td>\n",
       "      <td>7</td>\n",
       "      <td>7</td>\n",
       "    </tr>\n",
       "  </tbody>\n",
       "</table>\n",
       "<p>5 rows × 21 columns</p>\n",
       "</div>"
      ],
      "text/plain": [
       "   Age  Gender Education_Level Employment_Status  Sleep_Hours  \\\n",
       "0   56    Male      Bachelor's        Unemployed          6.0   \n",
       "1   69  Female      Bachelor's           Retired          8.8   \n",
       "2   46  Female        Master's          Employed          5.3   \n",
       "3   32  Female     High School        Unemployed          8.8   \n",
       "4   60  Female      Bachelor's           Retired          7.2   \n",
       "\n",
       "   Physical_Activity_Hrs  Social_Support_Score  Anxiety_Score  \\\n",
       "0                    0.4                     3              4   \n",
       "1                    2.8                     6             18   \n",
       "2                    1.6                     5              5   \n",
       "3                    0.5                     4              6   \n",
       "4                    0.7                     2              7   \n",
       "\n",
       "   Depression_Score  Stress_Level  ...  Chronic_Illnesses  Medication_Use  \\\n",
       "0                 2             9  ...                  0       Don't use   \n",
       "1                 7             6  ...                  0       Don't use   \n",
       "2                13             8  ...                  0       Don't use   \n",
       "3                 3             4  ...                  1       Don't use   \n",
       "4                15             3  ...                  0       Don't use   \n",
       "\n",
       "  Therapy  Meditation  Substance_Use Financial_Stress  Work_Stress  \\\n",
       "0       0           1      don't use                4            3   \n",
       "1       1           0      don't use                1            4   \n",
       "2       0           1      don't use                8            7   \n",
       "3       0           0      don't use                7            4   \n",
       "4       1           1       Frequent                8            9   \n",
       "\n",
       "   Self_Esteem_Score  Life_Satisfaction_Score  Loneliness_Score  \n",
       "0                  7                        5                 1  \n",
       "1                  7                        4                 6  \n",
       "2                  8                        1                 1  \n",
       "3                  8                        4                 4  \n",
       "4                  5                        7                 7  \n",
       "\n",
       "[5 rows x 21 columns]"
      ]
     },
     "execution_count": 3,
     "metadata": {},
     "output_type": "execute_result"
    }
   ],
   "source": [
    "#começando o tratamento de dados ausentes\n",
    "# coluna substance_use contém muitos valores NaN, vou mostrar apenas essa coluna para ter uma idea melhor sobre\n",
    "pd.set_option('display.max_rows', None)\n",
    "df[\"Substance_Use\"]\n",
    "# aparentemente os valores NaN correspondem a pessoas que não fazem uso de medicamentos\n",
    "# para melhor visualização, vou transformar valores NaN em \"don't use\"\n",
    "df['Substance_Use'] = df['Substance_Use'].fillna(\"don't use\")\n",
    "df\n",
    "\n",
    "# ainda há valores faltantes, a coluna Medication_Use vamos trata-la também\n",
    "df[\"Medication_Use\"]\n",
    "# também indicam intuitivamente que NaN quer dizer que a pessoa não usa medicamentos\n",
    "# logo, vamos realizar o mesmo tratamento\n",
    "df['Medication_Use'] = df['Medication_Use'].fillna(\"Don't use\")\n",
    "df.head()"
   ]
  },
  {
   "cell_type": "code",
   "execution_count": 35,
   "id": "352a3869-06e7-44f4-bca5-a9aa1b61f18c",
   "metadata": {},
   "outputs": [
    {
     "name": "stdout",
     "output_type": "stream",
     "text": [
      "6.469\n",
      "6.8\n",
      "a moda convertida para horas é: 6h 48min\n"
     ]
    }
   ],
   "source": [
    "#começando a analise verificando a média de horas de sono de pessoas que tem ansiedade\n",
    "\n",
    "media_sono = df[\"Sleep_Hours\"].mean()\n",
    "print(media_sono)\n",
    "\n",
    "# o sono pode ter grande interferência na ansiedade visto que segundo o site gov.com, a média de sono ideal são 8 horas diárias\n",
    "\n",
    "moda_sono = df['Sleep_Hours'].mode()[0]\n",
    "print(moda_sono)\n",
    "\n",
    "# convertendo o valor para horas\n",
    "\n",
    "horas, minutos = divmod(moda_sono * 60, 60)  # Converte tudo para minutos e separa\n",
    "print(f\"a moda convertida para horas é: {int(horas)}h {int(minutos)}min\")\n",
    "\n",
    "# portanto com a moda sendo 6h e 48m há um padrão de má qualidade de sono entre as pessoas que tem ansiedade\n",
    "# podendo ser fortemente considerado um fator que contribui para a ansiedade"
   ]
  },
  {
   "cell_type": "code",
   "execution_count": 45,
   "id": "1ded7d59-e36a-48c9-b718-e959a3a3e0d9",
   "metadata": {},
   "outputs": [
    {
     "name": "stdout",
     "output_type": "stream",
     "text": [
      "a media convertida para horas é: 2h 0min\n",
      "a moda convertida para horas é: 0h 6min\n"
     ]
    }
   ],
   "source": [
    "# verificando como as horas de atividades fisicas podem influenciar na ansiedade\n",
    "\n",
    "media_atv_fis = df[\"Physical_Activity_Hrs\"].mean()\n",
    "horas, minutos = divmod(media_atv_fis * 60, 60)  # convertendo\n",
    "print(f\"a media convertida para horas é: {int(horas)}h {int(minutos)}min\")\n",
    "\n",
    "#verificando a moda para entender o nível de influência de atividades fisicas na ansiedade\n",
    "\n",
    "moda_atv_fis = df['Physical_Activity_Hrs'].mode()[0]\n",
    "\n",
    "# convertendo para horas\\ minutos\n",
    "\n",
    "horas, minutos = divmod(moda_atv_fis * 60, 60)  # Converte tudo para minutos e separa\n",
    "print(f\"a moda convertida para horas é: {int(horas)}h {int(minutos)}min\")\n",
    "\n",
    "# conclusão: maioria das pessoas que tem ansiedade, pratica atividades fisicas por pouco tempo\n",
    "# porém, vamos analisar a seguir o impacto das atividades fisicas na ansiedade "
   ]
  },
  {
   "cell_type": "code",
   "execution_count": 8,
   "id": "270000fa-dfac-425a-8871-3c06db9fe6c7",
   "metadata": {},
   "outputs": [
    {
     "name": "stdout",
     "output_type": "stream",
     "text": [
      "Ansiedade média de sedentários: 5.35\n",
      "Ansiedade média de pessoas ativas: 4.99\n",
      "Media de estresse em pessoas com suporte social: 5.00\n",
      "Media de estresse em pessoas sem suporte social: 4.85\n"
     ]
    }
   ],
   "source": [
    "#analisando, temos uma diferença chamativa de niveis de ansiedade\n",
    "#uma forte indicaçaõ de que a pratica recorrente de atividades fisicas contribui para a diminuição do estresse\n",
    "\n",
    "media_ansiedade_sedentarios = df[df[\"Physical_Activity_Hrs\"] == 0][\"Stress_Level\"].mean()\n",
    "media_ansiedade_ativos = df[df[\"Physical_Activity_Hrs\"] > 0][\"Stress_Level\"].mean()\n",
    "\n",
    "print(f\"Ansiedade média de sedentários: {media_ansiedade_sedentarios:.2f}\")\n",
    "print(f\"Ansiedade média de pessoas ativas: {media_ansiedade_ativos:.2f}\")\n",
    "\n",
    "#analisando agora os niveis de estresse em relação a pessoas com bom suporte social\n",
    "\n",
    "media_estresse_com_suporte = df[df[\"Social_Support_Score\"] > 0][\"Stress_Level\"].mean()\n",
    "media_estresse_sem_suporte = df[df[\"Social_Support_Score\"] < 5][\"Stress_Level\"].mean()\n",
    "\n",
    "print(f\"Media de estresse em pessoas com suporte social: {media_estresse_com_suporte:.2f}\")\n",
    "print(f\"Media de estresse em pessoas sem suporte social: {media_estresse_sem_suporte:.2f}\")"
   ]
  },
  {
   "cell_type": "code",
   "execution_count": 21,
   "id": "d0069683-0f13-4ae6-8f48-2ab4a346dc39",
   "metadata": {},
   "outputs": [
    {
     "name": "stdout",
     "output_type": "stream",
     "text": [
      "      Educação  Média de Idade\n",
      "0   Bachelor's       49.033493\n",
      "1  High School       46.848889\n",
      "2     Master's       48.017021\n",
      "3        Other       46.129310\n",
      "4          PhD       47.101626\n"
     ]
    }
   ],
   "source": [
    "##começando a analisar o nivel de estresse em relação ao nivel de educação, para entender como uma formação superior pode influenciar\n",
    "col_estresse = df.select_dtypes(include=['number']).columns\n",
    "\n",
    "df[\"Stress_Level\"] = df[col_estresse].mean(axis=1)\n",
    "\n",
    "df_agrupado = df.groupby('Education_Level')['Stress_Level'].mean().reset_index()\n",
    "\n",
    "df_agrupado\n",
    "\n",
    "# temos uma leve superioridade em formações mais influentes\n",
    "# a formação universitária mostrando ser a grande vilã e causando altos niveis de estresse\n",
    "# a possivel causa pode ser pela maioria das pessoas serem novas no período de formação superior\n",
    "# juntando com a grande carga de conteúdo e prazos apertados são fatores que podem influenciar para altos niveis de estresse? vamos entender\n",
    "\n",
    "# Filtrar apenas as pessoas com nível de estresse maior que 10\n",
    "df_high_stress = df[df['Stress_Level'] > 5]\n",
    "\n",
    "# Calcular a média de idade para cada nível de formação\n",
    "df_age_mean = df_high_stress.groupby('Education_Level')['Age'].mean().reset_index()\n",
    "\n",
    "# Renomear colunas para melhor interpretação\n",
    "df_age_mean.columns = ['Educação', 'Média de Idade']\n",
    "\n",
    "# Exibir os resultados\n",
    "print(df_age_mean)\n",
    "# maioria de pessoas com nive de estresse maior que a média tem idade media de 49 anos e estão realizando o curso de ensino superior\n"
   ]
  },
  {
   "cell_type": "code",
   "execution_count": 22,
   "id": "1ca611d8-6fb2-4d3e-81ed-c5547c4d1a6d",
   "metadata": {},
   "outputs": [
    {
     "name": "stdout",
     "output_type": "stream",
     "text": [
      "       Gênero  Média de Estresse\n",
      "0      Female           7.155981\n",
      "1        Male           7.111474\n",
      "2  Non-Binary           7.353778\n",
      "3       Other           6.915238\n"
     ]
    }
   ],
   "source": [
    "# Calcular a média de estresse para cada gênero\n",
    "df_gender_stress = df.groupby('Gender')['Stress_Level'].mean().reset_index()\n",
    "\n",
    "# Renomear colunas para melhor interpretação\n",
    "df_gender_stress.columns = ['Gênero', 'Média de Estresse']\n",
    "\n",
    "# Exibir os resultados\n",
    "print(df_gender_stress)\n"
   ]
  },
  {
   "cell_type": "code",
   "execution_count": 4,
   "id": "3ec2e4ca-d232-4121-85cb-f790a87a3b84",
   "metadata": {},
   "outputs": [
    {
     "name": "stdout",
     "output_type": "stream",
     "text": [
      "   Meditação (0 = Não, 1 = Sim)  Média de Estresse\n",
      "0                             0           4.918169\n",
      "1                             1           5.125261\n"
     ]
    }
   ],
   "source": [
    "# Calcular a média de estresse para quem medita e quem não medita\n",
    "df_meditation_stress = df.groupby('Meditation')['Stress_Level'].mean().reset_index()\n",
    "\n",
    "# Renomear colunas para melhor interpretação\n",
    "df_meditation_stress.columns = ['Meditação (0 = Não, 1 = Sim)', 'Média de Estresse']\n",
    "\n",
    "# Exibir os resultados\n",
    "print(df_meditation_stress)\n",
    "# media maior em pessoas que fazem meditação o que pode indicar que a meditação não interfere nos niveis de estresse\n",
    "# mas também é um indicador da forte adesão à praticas de meditação de pessoas com altos niveis de estresse "
   ]
  },
  {
   "cell_type": "code",
   "execution_count": null,
   "id": "6eeff958-275e-46d7-8c4b-de05ec482111",
   "metadata": {},
   "outputs": [],
   "source": []
  }
 ],
 "metadata": {
  "kernelspec": {
   "display_name": "Python 3 (ipykernel)",
   "language": "python",
   "name": "python3"
  },
  "language_info": {
   "codemirror_mode": {
    "name": "ipython",
    "version": 3
   },
   "file_extension": ".py",
   "mimetype": "text/x-python",
   "name": "python",
   "nbconvert_exporter": "python",
   "pygments_lexer": "ipython3",
   "version": "3.12.7"
  }
 },
 "nbformat": 4,
 "nbformat_minor": 5
}
